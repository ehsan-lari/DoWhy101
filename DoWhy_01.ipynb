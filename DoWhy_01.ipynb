{
  "nbformat": 4,
  "nbformat_minor": 0,
  "metadata": {
    "colab": {
      "provenance": [],
      "authorship_tag": "ABX9TyN19G+Z8MaAzpn+aI9BY7Th",
      "include_colab_link": true
    },
    "kernelspec": {
      "name": "python3",
      "display_name": "Python 3"
    },
    "language_info": {
      "name": "python"
    }
  },
  "cells": [
    {
      "cell_type": "markdown",
      "metadata": {
        "id": "view-in-github",
        "colab_type": "text"
      },
      "source": [
        "<a href=\"https://colab.research.google.com/github/ehsan-lari/DoWhy101/blob/main/DoWhy_01.ipynb\" target=\"_parent\"><img src=\"https://colab.research.google.com/assets/colab-badge.svg\" alt=\"Open In Colab\"/></a>"
      ]
    },
    {
      "cell_type": "code",
      "execution_count": null,
      "metadata": {
        "id": "6iqvNge4KoFU"
      },
      "outputs": [],
      "source": [
        "%pip install dowhy\n",
        "import dowhy"
      ]
    },
    {
      "cell_type": "code",
      "source": [
        "from dowhy import CausalModel\n",
        "import dowhy.datasets\n",
        "\n",
        "# Load some sample data\n",
        "data = dowhy.datasets.linear_dataset(\n",
        "    beta=10,\n",
        "    num_common_causes=5,\n",
        "    num_instruments=2,\n",
        "    num_samples=10000,\n",
        "    treatment_is_binary=True)"
      ],
      "metadata": {
        "id": "IbegbF4rK8pZ"
      },
      "execution_count": 3,
      "outputs": []
    },
    {
      "cell_type": "code",
      "source": [
        "# I. Create a causal model from the data and given graph.\n",
        "model = CausalModel(\n",
        "    data=data[\"df\"],\n",
        "    treatment=data[\"treatment_name\"],\n",
        "    outcome=data[\"outcome_name\"],\n",
        "    graph=data[\"gml_graph\"])  # Or alternatively, as nx.DiGraph\n",
        "\n",
        "# II. Identify causal effect and return target estimands\n",
        "identified_estimand = model.identify_effect()\n",
        "\n",
        "# III. Estimate the target estimand using a statistical method.\n",
        "estimate = model.estimate_effect(identified_estimand,\n",
        "                                 method_name=\"backdoor.propensity_score_matching\")\n",
        "\n",
        "# IV. Refute the obtained estimate using multiple robustness checks.\n",
        "refute_results = model.refute_estimate(identified_estimand, estimate,\n",
        "                                       method_name=\"random_common_cause\")"
      ],
      "metadata": {
        "id": "6D1UqNLgM1Bo"
      },
      "execution_count": 6,
      "outputs": []
    }
  ]
}