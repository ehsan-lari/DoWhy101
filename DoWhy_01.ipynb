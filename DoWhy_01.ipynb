{
  "nbformat": 4,
  "nbformat_minor": 0,
  "metadata": {
    "colab": {
      "provenance": [],
      "authorship_tag": "ABX9TyOLTpDxxBOpPdQqJRM9ZotC",
      "include_colab_link": true
    },
    "kernelspec": {
      "name": "python3",
      "display_name": "Python 3"
    },
    "language_info": {
      "name": "python"
    }
  },
  "cells": [
    {
      "cell_type": "markdown",
      "metadata": {
        "id": "view-in-github",
        "colab_type": "text"
      },
      "source": [
        "<a href=\"https://colab.research.google.com/github/ehsan-lari/DoWhy_Edu/blob/main/DoWhy_01.ipynb\" target=\"_parent\"><img src=\"https://colab.research.google.com/assets/colab-badge.svg\" alt=\"Open In Colab\"/></a>"
      ]
    },
    {
      "cell_type": "code",
      "execution_count": null,
      "metadata": {
        "id": "6iqvNge4KoFU"
      },
      "outputs": [],
      "source": [
        "%pip install dowhy\n",
        "import dowhy"
      ]
    },
    {
      "cell_type": "code",
      "source": [],
      "metadata": {
        "id": "IbegbF4rK8pZ"
      },
      "execution_count": null,
      "outputs": []
    }
  ]
}